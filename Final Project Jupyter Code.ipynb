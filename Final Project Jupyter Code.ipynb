{
 "cells": [
  {
   "cell_type": "markdown",
   "id": "unlike-andrews",
   "metadata": {},
   "source": [
    "EC3310 - Coding Project (Code)\\\n",
    "Ahmed Sohail - ID: 100895538  - CN: 2104796\\\n",
    "Hassan Al-Shejni - ID: 100910622 - CN: 2101853\\\n",
    "Mohamed Munir Bin Mohamad Malik -  ID: 100929861 - CN: 2108076"
   ]
  },
  {
   "cell_type": "code",
   "execution_count": 3,
   "id": "referenced-bobby",
   "metadata": {},
   "outputs": [],
   "source": [
    "# WebScraping\n",
    "from bs4 import BeautifulSoup\n",
    "import pandas as pd\n",
    "import requests\n",
    "import re\n",
    "import json"
   ]
  },
  {
   "cell_type": "code",
   "execution_count": null,
   "id": "round-shark",
   "metadata": {},
   "outputs": [],
   "source": [
    "# AlphaVantage API Seminar Imports\n",
    "import pandas as pd \n",
    "from pandas import Series, DataFrame \n",
    "import numpy as np\n",
    "import statsmodels.api as sm\n",
    "import matplotlib.pyplot as plt\n",
    "import seaborn as sns"
   ]
  },
  {
   "cell_type": "code",
   "execution_count": null,
   "id": "practical-photographer",
   "metadata": {},
   "outputs": [],
   "source": [
    "\n",
    "\n"
   ]
  },
  {
   "cell_type": "code",
   "execution_count": null,
   "id": "unauthorized-torture",
   "metadata": {},
   "outputs": [],
   "source": [
    "\n",
    "\n"
   ]
  },
  {
   "cell_type": "code",
   "execution_count": null,
   "id": "attended-burning",
   "metadata": {},
   "outputs": [],
   "source": [
    "\n",
    "\n"
   ]
  },
  {
   "cell_type": "code",
   "execution_count": null,
   "id": "local-nylon",
   "metadata": {},
   "outputs": [],
   "source": [
    "\n",
    "\n"
   ]
  }
 ],
 "metadata": {
  "celltoolbar": "Raw Cell Format",
  "kernelspec": {
   "display_name": "Python 3",
   "language": "python",
   "name": "python3"
  },
  "language_info": {
   "codemirror_mode": {
    "name": "ipython",
    "version": 3
   },
   "file_extension": ".py",
   "mimetype": "text/x-python",
   "name": "python",
   "nbconvert_exporter": "python",
   "pygments_lexer": "ipython3",
   "version": "3.9.2"
  }
 },
 "nbformat": 4,
 "nbformat_minor": 5
}
